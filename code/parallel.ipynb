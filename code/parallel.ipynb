{
 "cells": [
  {
   "cell_type": "code",
   "execution_count": null,
   "id": "86558096-8eec-4e79-b5f7-62a1ce541ea8",
   "metadata": {},
   "outputs": [],
   "source": [
    "from concurrent.futures import ProcessPoolExecutor\n",
    "from concurrent.futures import ThreadPoolExecutor\n",
    "from concurrent.futures import as_completed\n",
    "from concurrent.futures import wait, ALL_COMPLETED\n"
   ]
  },
  {
   "cell_type": "code",
   "execution_count": 39,
   "id": "172e302b-201b-4b9b-bda2-14a85f38f7ea",
   "metadata": {},
   "outputs": [
    {
     "data": {
      "text/plain": [
       "DoneAndNotDoneFutures(done={<Future at 0x1f6a6898040 state=finished returned int>, <Future at 0x1f6a689e070 state=finished returned int>, <Future at 0x1f6a6892100 state=finished returned int>, <Future at 0x1f6a6898130 state=finished returned int>, <Future at 0x1f6a689e160 state=finished returned int>, <Future at 0x1f6a68921f0 state=finished returned int>, <Future at 0x1f6a6898220 state=finished returned int>, <Future at 0x1f6a689e250 state=finished returned int>, <Future at 0x1f6a68922e0 state=finished returned int>, <Future at 0x1f6a6844310 state=finished returned int>, <Future at 0x1f6a6898310 state=finished returned int>, <Future at 0x1f6a68063a0 state=finished returned int>, <Future at 0x1f6a68923d0 state=finished returned int>, <Future at 0x1f6a6898400 state=finished returned int>, <Future at 0x1f6a68924c0 state=finished returned int>, <Future at 0x1f6a68984f0 state=finished returned int>, <Future at 0x1f6a68925b0 state=finished returned int>, <Future at 0x1f6a68985e0 state=finished returned int>, <Future at 0x1f6a6806640 state=finished returned int>, <Future at 0x1f6a68926a0 state=finished returned int>, <Future at 0x1f6a68986d0 state=finished returned int>, <Future at 0x1f6a6892790 state=finished returned int>, <Future at 0x1f6a68987c0 state=finished returned int>, <Future at 0x1f6a6892880 state=finished returned int>, <Future at 0x1f6a68688b0 state=finished returned int>, <Future at 0x1f6a68988b0 state=finished returned int>, <Future at 0x1f6a67b2970 state=finished returned int>, <Future at 0x1f6a6892970 state=finished returned int>, <Future at 0x1f6a68989a0 state=finished returned int>, <Future at 0x1f6a68069d0 state=finished returned int>, <Future at 0x1f6a6892a60 state=finished returned int>, <Future at 0x1f6a6898a90 state=finished returned int>, <Future at 0x1f6a67b2b20 state=finished returned int>, <Future at 0x1f6a6892b50 state=finished returned int>, <Future at 0x1f6a6844b80 state=finished returned int>, <Future at 0x1f6a6898b80 state=finished returned int>, <Future at 0x1f6a6806bb0 state=finished returned int>, <Future at 0x1f6a6892c40 state=finished returned int>, <Future at 0x1f6a6898c70 state=finished returned int>, <Future at 0x1f6a67b2cd0 state=finished returned int>, <Future at 0x1f6a6892d30 state=finished returned int>, <Future at 0x1f6a6898d60 state=finished returned int>, <Future at 0x1f6a6868df0 state=finished returned int>, <Future at 0x1f6a6892e20 state=finished returned int>, <Future at 0x1f6a6898e50 state=finished returned int>, <Future at 0x1f6a6892f10 state=finished returned int>, <Future at 0x1f6a6898f40 state=finished returned int>, <Future at 0x1f6a688b0d0 state=finished returned int>, <Future at 0x1f6a6861160 state=finished returned int>, <Future at 0x1f6a687b190 state=finished returned int>, <Future at 0x1f6a68131c0 state=finished returned int>, <Future at 0x1f6a688b1c0 state=finished returned int>, <Future at 0x1f6a687b1f0 state=finished returned int>, <Future at 0x1f6a688b2b0 state=finished returned int>, <Future at 0x1f6a678b2e0 state=finished returned int>, <Future at 0x1f6a687b370 state=finished returned int>, <Future at 0x1f6a687b3a0 state=finished returned int>, <Future at 0x1f6a688b3a0 state=finished returned int>, <Future at 0x1f6a68613d0 state=finished returned int>, <Future at 0x1f6a688b490 state=finished returned int>, <Future at 0x1f6a67c94f0 state=finished returned int>, <Future at 0x1f6964b3520 state=finished returned int>, <Future at 0x1f6a687b550 state=finished returned int>, <Future at 0x1f6a688b580 state=finished returned int>, <Future at 0x1f6a687b5e0 state=finished returned int>, <Future at 0x1f6a687b670 state=finished returned int>, <Future at 0x1f6a688b670 state=finished returned int>, <Future at 0x1f6a67a76a0 state=finished returned int>, <Future at 0x1f6a687b730 state=finished returned int>, <Future at 0x1f6a688b760 state=finished returned int>, <Future at 0x1f6a68617f0 state=finished returned int>, <Future at 0x1f6a688b850 state=finished returned int>, <Future at 0x1f6a6861880 state=finished returned int>, <Future at 0x1f6a687b8b0 state=finished returned int>, <Future at 0x1f6a679f910 state=finished returned int>, <Future at 0x1f6a6861910 state=finished returned int>, <Future at 0x1f6a688b940 state=finished returned int>, <Future at 0x1f6a67a7970 state=finished returned int>, <Future at 0x1f6a687b9a0 state=finished returned int>, <Future at 0x1f6a688ba30 state=finished returned int>, <Future at 0x1f6a67c9a60 state=finished returned int>, <Future at 0x1f6a688bb20 state=finished returned int>, <Future at 0x1f6a687bf70 state=finished returned int>, <Future at 0x1f6a687bb50 state=finished returned int>, <Future at 0x1f6a67c9be0 state=finished returned int>, <Future at 0x1f6a688bc10 state=finished returned int>, <Future at 0x1f6a67c9c70 state=finished returned int>, <Future at 0x1f6a687bcd0 state=finished returned int>, <Future at 0x1f6a6849cd0 state=finished returned int>, <Future at 0x1f6a688bd00 state=finished returned int>, <Future at 0x1f6a687bd30 state=finished returned int>, <Future at 0x1f6a67b7d60 state=finished returned int>, <Future at 0x1f6a687bd90 state=finished returned int>, <Future at 0x1f6a688bdf0 state=finished returned int>, <Future at 0x1f6a678be50 state=finished returned int>, <Future at 0x1f6a687be80 state=finished returned int>, <Future at 0x1f6a6849ee0 state=finished returned int>, <Future at 0x1f6a688bee0 state=finished returned int>, <Future at 0x1f6a6861f70 state=finished returned int>, <Future at 0x1f6a688bfd0 state=finished returned int>}, not_done=set())"
      ]
     },
     "execution_count": 39,
     "metadata": {},
     "output_type": "execute_result"
    }
   ],
   "source": [
    "values = [2,3,4,5]\n",
    "\n",
    "def square(n):\n",
    "   return n * n\n",
    "\n",
    "arguments = range(0,100)\n",
    "\n",
    "pool = concurrent.futures.ThreadPoolExecutor(4)\n",
    "\n",
    "futures = [pool.submit(f, args) for args in arguments]\n",
    "\n",
    "wait(futures, timeout=None, return_when=ALL_COMPLETED) \n"
   ]
  },
  {
   "cell_type": "code",
   "execution_count": null,
   "id": "e3898507-6235-405d-9571-6d93e1e09086",
   "metadata": {},
   "outputs": [],
   "source": []
  },
  {
   "cell_type": "code",
   "execution_count": null,
   "id": "cd5ce1b0-b8b9-4abd-9f29-4a7ab16cc27e",
   "metadata": {},
   "outputs": [],
   "source": []
  },
  {
   "cell_type": "code",
   "execution_count": null,
   "id": "1edc1a97-4126-4006-bb28-3c190fcae06e",
   "metadata": {},
   "outputs": [],
   "source": [
    "import concurrent.futures\n",
    "import math\n",
    "\n",
    "PRIMES = [\n",
    "    112272535095293,\n",
    "    112582705942171,\n",
    "    112272535095293,\n",
    "    115280095190773,\n",
    "    115797848077099,\n",
    "    1099726899285419]\n",
    "\n",
    "def is_prime(n):\n",
    "    if n < 2:\n",
    "        return False\n",
    "    if n == 2:\n",
    "        return True\n",
    "    if n % 2 == 0:\n",
    "        return False\n",
    "\n",
    "    sqrt_n = int(math.floor(math.sqrt(n)))\n",
    "    for i in range(3, sqrt_n + 1, 2):\n",
    "        if n % i == 0:\n",
    "            return False\n",
    "    return True\n",
    "\n",
    "def main():\n",
    "    with concurrent.futures.ThreadPoolExecutor() as executor:\n",
    "        for number, prime in zip(PRIMES, executor.map(is_prime, PRIMES)):\n",
    "            print('%d is prime: %s' % (number, prime))\n",
    "\n",
    "if __name__ == '__main__':\n",
    "    main()"
   ]
  },
  {
   "cell_type": "code",
   "execution_count": null,
   "id": "c388a3bd-0dc0-4d7a-bfd4-0c0e0f9fd9de",
   "metadata": {},
   "outputs": [],
   "source": [
    "import concurrent.futures\n",
    "\n",
    "nums = [1,2,3,4,5,6,7,8,9,10]\n",
    "\n",
    "def f(x):\n",
    "    return x * x\n",
    "\n",
    "def main():\n",
    "    # Make sure the map and function are working\n",
    "    print([val for val in map(f, nums)])\n",
    "\n",
    "    # Test to make sure concurrent map is working\n",
    "    with concurrent.futures.ThreadPoolExecutor() as executor:\n",
    "        print([val for val in executor.map(f, nums)])\n",
    "\n",
    "if __name__ == '__main__':\n",
    "    main()"
   ]
  },
  {
   "cell_type": "code",
   "execution_count": null,
   "id": "95ea00fb-7954-4c63-8c8b-899c05636b07",
   "metadata": {},
   "outputs": [],
   "source": [
    "from concurrent.futures import ThreadPoolExecutor\n",
    "from concurrent.futures import as_completed\n",
    "\n",
    "values = [2,3,4,5]\n",
    "\n",
    "def square(n):\n",
    "   return n * n\n",
    "\n",
    "def main():\n",
    "   with ThreadPoolExecutor(max_workers = 3) as executor:\n",
    "      results = executor.map(square, values)\n",
    "   for result in results:\n",
    "      print(result)\n",
    "        \n",
    "if __name__ == '__main__':\n",
    "   main()"
   ]
  }
 ],
 "metadata": {
  "kernelspec": {
   "display_name": "Python 3 (ipykernel)",
   "language": "python",
   "name": "python3"
  },
  "language_info": {
   "codemirror_mode": {
    "name": "ipython",
    "version": 3
   },
   "file_extension": ".py",
   "mimetype": "text/x-python",
   "name": "python",
   "nbconvert_exporter": "python",
   "pygments_lexer": "ipython3",
   "version": "3.9.7"
  }
 },
 "nbformat": 4,
 "nbformat_minor": 5
}
