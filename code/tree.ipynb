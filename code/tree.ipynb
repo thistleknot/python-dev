{
 "cells": [
  {
   "cell_type": "code",
   "execution_count": null,
   "id": "ebfbc1b1-ccdf-4954-a04e-176e91a57678",
   "metadata": {},
   "outputs": [],
   "source": [
    "#https://stackoverflow.com/questions/8484943/construct-a-tree-from-list-os-file-paths-python-performance-dependent\n",
    "\n",
    "import re\n",
    "\n",
    "from collections import defaultdict\n",
    "text_file = \"/mnt/c/Users/User/Documents/sorted-slashed.txt\"\n",
    "\n",
    "with open(text_file, 'rb') as f:\n",
    "    lines = f.readlines()\n",
    "\n",
    "input_ = lines\n",
    "\n",
    "FILE_MARKER = '<files>'\n",
    "\n",
    "def attach(branch, trunk):\n",
    "    '''\n",
    "    Insert a branch of directories on its trunk.\n",
    "    '''\n",
    "    parts = branch.split('/', 1)\n",
    "    if len(parts) == 1:  # branch is a file\n",
    "        trunk[FILE_MARKER].append(parts[0])\n",
    "    else:\n",
    "        node, others = parts\n",
    "        if node not in trunk:\n",
    "            trunk[node] = defaultdict(dict, ((FILE_MARKER, []),))\n",
    "        attach(others, trunk[node])\n",
    "\n",
    "def prettify(d, indent=0):\n",
    "    '''\n",
    "    Print the file tree structure with proper indentation.\n",
    "    '''\n",
    "    sorted_items = sorted(d.items())\n",
    "    #print(type(d.items()))\n",
    "    for key, value in sorted_items:\n",
    "        if key == FILE_MARKER:\n",
    "            if value:\n",
    "                print('  ' * indent + str(value))\n",
    "        else:\n",
    "            print('  ' * indent + str(key))\n",
    "            if isinstance(value, dict):\n",
    "                prettify(value, indent+1)\n",
    "            else:\n",
    "                print('  ' * (indent+1) + str(value))\n",
    "\n",
    "main_dict = defaultdict(dict, ((FILE_MARKER, []),))\n",
    "\n",
    "for line in input_:\n",
    "    result = str(line).replace(r'\\r', '').replace(r'\\n', '')\n",
    "    attach(result, main_dict)\n",
    "\n",
    "prettify(main_dict)"
   ]
  }
 ],
 "metadata": {
  "kernelspec": {
   "display_name": "Python 3 (ipykernel)",
   "language": "python",
   "name": "python3"
  },
  "language_info": {
   "codemirror_mode": {
    "name": "ipython",
    "version": 3
   },
   "file_extension": ".py",
   "mimetype": "text/x-python",
   "name": "python",
   "nbconvert_exporter": "python",
   "pygments_lexer": "ipython3",
   "version": "3.9.7"
  }
 },
 "nbformat": 4,
 "nbformat_minor": 5
}
