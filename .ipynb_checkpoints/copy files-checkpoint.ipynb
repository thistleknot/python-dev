{
 "cells": [
  {
   "cell_type": "code",
   "execution_count": 149,
   "metadata": {},
   "outputs": [
    {
     "name": "stdout",
     "output_type": "stream",
     "text": [
      "Requirement already satisfied: pandas in c:\\users\\user\\anaconda3\\lib\\site-packages (0.22.0)\n"
     ]
    },
    {
     "name": "stderr",
     "output_type": "stream",
     "text": [
      "ERROR: Could not find a version that satisfies the requirement shutil (from versions: none)\n",
      "ERROR: No matching distribution found for shutil\n"
     ]
    }
   ],
   "source": [
    "!pip install pandas shutil\n"
   ]
  },
  {
   "cell_type": "code",
   "execution_count": 1,
   "metadata": {},
   "outputs": [],
   "source": [
    "import pandas as pd\n",
    "from shutil import copyfile"
   ]
  },
  {
   "cell_type": "code",
   "execution_count": 7,
   "metadata": {},
   "outputs": [],
   "source": [
    "#format\n",
    "#source file name, destination\n",
    "#in support of a FPC wav orbis conversion using audacity which dumps to a single folder\n",
    "'''\n",
    "search for all the waves in\n",
    "\n",
    "C:\\Program Files\\Image-Line\\FL Studio 20\\Data\\Patches\\Packs\\Legacy\n",
    "\n",
    "drag into audacity\n",
    "\n",
    "output to a folder\n",
    "\n",
    "do some dir snafoo commands\n",
    "\n",
    "https://superuser.com/questions/344155/how-do-i-recursively-list-filenames-only-in-dos-windows\n",
    "\tfor /r %i in (*.wav) do @echo %~ni.wav >> list.txt\n",
    "\t\n",
    "https://stackoverflow.com/questions/7164184/suppress-directory-names-being-listed-with-dir\t\n",
    "\n",
    "\tdir *.wav /b /s /a-d > files.txt\n",
    "    \n",
    "put those together into a csv\n",
    "'''\n",
    "data = pd.read_csv(r\"C:\\Users\\User\\Documents\\wiki\\wiki\\dev\\python\\python-dev\\files.csv\",header=None)"
   ]
  },
  {
   "cell_type": "code",
   "execution_count": 9,
   "metadata": {},
   "outputs": [],
   "source": [
    "from subprocess import check_output\n",
    "\n",
    "import os\n",
    "import shutil\n",
    "from os import path\n",
    "\n",
    "wd = \"V:\\\\music\\\\production\\\\Default FPC Packs\\\\Legacy\\\\Drums\\\\\"\n",
    "def copy(src,dst):\n",
    "\n",
    "    # nowuse the shell to make a copy of the file\n",
    "    shutil.copy(src, dst)\n",
    "\n",
    "    #copy over the permissions,modification\n",
    "    shutil.copystat(src,dst)\n",
    "\n",
    "\n",
    "for i in range(0,len(data.iloc[:,0])):\n",
    "    #cmd = \"echo \"\n",
    "    #print(i)\n",
    "  \n",
    "    src = wd+data.iloc[:,0][i];\n",
    "    \n",
    "    dst = data.iloc[:,1][i]\n",
    "    \n",
    "    copy(src,dst)\n",
    " "
   ]
  }
 ],
 "metadata": {
  "kernelspec": {
   "display_name": "Python 3",
   "language": "python",
   "name": "python3"
  },
  "language_info": {
   "codemirror_mode": {
    "name": "ipython",
    "version": 3
   },
   "file_extension": ".py",
   "mimetype": "text/x-python",
   "name": "python",
   "nbconvert_exporter": "python",
   "pygments_lexer": "ipython3",
   "version": "3.6.4"
  }
 },
 "nbformat": 4,
 "nbformat_minor": 2
}
