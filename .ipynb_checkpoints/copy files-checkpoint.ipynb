{
 "cells": [
  {
   "cell_type": "code",
   "execution_count": 149,
   "metadata": {},
   "outputs": [
    {
     "name": "stdout",
     "output_type": "stream",
     "text": [
      "Requirement already satisfied: pandas in c:\\users\\user\\anaconda3\\lib\\site-packages (0.22.0)\n"
     ]
    },
    {
     "name": "stderr",
     "output_type": "stream",
     "text": [
      "ERROR: Could not find a version that satisfies the requirement shutil (from versions: none)\n",
      "ERROR: No matching distribution found for shutil\n"
     ]
    }
   ],
   "source": [
    "!pip install pandas shutil\n"
   ]
  },
  {
   "cell_type": "code",
   "execution_count": 1,
   "metadata": {},
   "outputs": [],
   "source": [
    "import pandas as pd\n",
    "from shutil import copyfile"
   ]
  },
  {
   "cell_type": "code",
   "execution_count": 2,
   "metadata": {},
   "outputs": [],
   "source": [
    "#format\n",
    "#source file name, destination\n",
    "#in support of a FPC wav orbis conversion using audacity which dumps to a single folder\n",
    "'''\n",
    "search for all the waves in\n",
    "\n",
    "C:\\Program Files\\Image-Line\\FL Studio 20\\Data\\Patches\\Packs\\Legacy\n",
    "\n",
    "drag into audacity\n",
    "\n",
    "output to a folder\n",
    "\n",
    "do some dir snafoo commands\n",
    "\n",
    "https://superuser.com/questions/344155/how-do-i-recursively-list-filenames-only-in-dos-windows\n",
    "\tfor /r %i in (*.wav) do @echo %~ni.wav >> list.txt\n",
    "\t\n",
    "https://stackoverflow.com/questions/7164184/suppress-directory-names-being-listed-with-dir\t\n",
    "\n",
    "\tdir *.wav /b /s /a-d > files.txt\n",
    "    \n",
    "put those together into a csv\n",
    "'''\n",
    "data = pd.read_csv(r\"C:\\Users\\User\\Documents\\wiki\\wiki\\dev\\python\\python-dev\\files.csv\",header=None)"
   ]
  },
  {
   "cell_type": "code",
   "execution_count": 3,
   "metadata": {},
   "outputs": [
    {
     "data": {
      "text/html": [
       "<div>\n",
       "<style scoped>\n",
       "    .dataframe tbody tr th:only-of-type {\n",
       "        vertical-align: middle;\n",
       "    }\n",
       "\n",
       "    .dataframe tbody tr th {\n",
       "        vertical-align: top;\n",
       "    }\n",
       "\n",
       "    .dataframe thead th {\n",
       "        text-align: right;\n",
       "    }\n",
       "</style>\n",
       "<table border=\"1\" class=\"dataframe\">\n",
       "  <thead>\n",
       "    <tr style=\"text-align: right;\">\n",
       "      <th></th>\n",
       "      <th>0</th>\n",
       "      <th>1</th>\n",
       "    </tr>\n",
       "  </thead>\n",
       "  <tbody>\n",
       "    <tr>\n",
       "      <th>0</th>\n",
       "      <td>057_Urban 001 BF.wav</td>\n",
       "      <td>V:\\MUSIC\\Production\\Tracks &amp; Clips\\transfuser\\...</td>\n",
       "    </tr>\n",
       "    <tr>\n",
       "      <th>1</th>\n",
       "      <td>057_Urban Busy 01A BF.wav</td>\n",
       "      <td>V:\\MUSIC\\Production\\Tracks &amp; Clips\\transfuser\\...</td>\n",
       "    </tr>\n",
       "    <tr>\n",
       "      <th>2</th>\n",
       "      <td>057_Urban Busy 01B BF.wav</td>\n",
       "      <td>V:\\MUSIC\\Production\\Tracks &amp; Clips\\transfuser\\...</td>\n",
       "    </tr>\n",
       "    <tr>\n",
       "      <th>3</th>\n",
       "      <td>058_Urban Tight 01 BF.wav</td>\n",
       "      <td>V:\\MUSIC\\Production\\Tracks &amp; Clips\\transfuser\\...</td>\n",
       "    </tr>\n",
       "    <tr>\n",
       "      <th>4</th>\n",
       "      <td>061_Urban Tight 02 BF.wav</td>\n",
       "      <td>V:\\MUSIC\\Production\\Tracks &amp; Clips\\transfuser\\...</td>\n",
       "    </tr>\n",
       "  </tbody>\n",
       "</table>\n",
       "</div>"
      ],
      "text/plain": [
       "                            0  \\\n",
       "0       057_Urban 001 BF.wav    \n",
       "1  057_Urban Busy 01A BF.wav    \n",
       "2  057_Urban Busy 01B BF.wav    \n",
       "3  058_Urban Tight 01 BF.wav    \n",
       "4  061_Urban Tight 02 BF.wav    \n",
       "\n",
       "                                                   1  \n",
       "0  V:\\MUSIC\\Production\\Tracks & Clips\\transfuser\\...  \n",
       "1  V:\\MUSIC\\Production\\Tracks & Clips\\transfuser\\...  \n",
       "2  V:\\MUSIC\\Production\\Tracks & Clips\\transfuser\\...  \n",
       "3  V:\\MUSIC\\Production\\Tracks & Clips\\transfuser\\...  \n",
       "4  V:\\MUSIC\\Production\\Tracks & Clips\\transfuser\\...  "
      ]
     },
     "execution_count": 3,
     "metadata": {},
     "output_type": "execute_result"
    }
   ],
   "source": [
    "data.head()"
   ]
  },
  {
   "cell_type": "code",
   "execution_count": null,
   "metadata": {},
   "outputs": [],
   "source": [
    "from subprocess import check_output\n",
    "\n",
    "import os\n",
    "import shutil\n",
    "from os import path\n",
    "\n",
    "wd = \"V:\\\\music\\\\production\\\\test\\\\\"\n",
    "def copy(src,dst):\n",
    "\n",
    "    # nowuse the shell to make a copy of the file\n",
    "    shutil.copy(src, dst)\n",
    "\n",
    "    #copy over the permissions,modification\n",
    "    shutil.copystat(src,dst)\n",
    "\n",
    "\n",
    "for i in range(0,len(data.iloc[:,0])):\n",
    "    #cmd = \"echo \"\n",
    "    #print(i)\n",
    "  \n",
    "    src = wd+data.iloc[:,0][i];\n",
    "    \n",
    "    dst = data.iloc[:,1][i]\n",
    "    \n",
    "    copy(src,dst)\n",
    " "
   ]
  }
 ],
 "metadata": {
  "kernelspec": {
   "display_name": "Python 3 (ipykernel)",
   "language": "python",
   "name": "python3"
  },
  "language_info": {
   "codemirror_mode": {
    "name": "ipython",
    "version": 3
   },
   "file_extension": ".py",
   "mimetype": "text/x-python",
   "name": "python",
   "nbconvert_exporter": "python",
   "pygments_lexer": "ipython3",
   "version": "3.9.6"
  }
 },
 "nbformat": 4,
 "nbformat_minor": 4
}
